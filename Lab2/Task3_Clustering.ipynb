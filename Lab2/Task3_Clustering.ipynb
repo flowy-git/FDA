{
 "cells": [
  {
   "cell_type": "markdown",
   "metadata": {
    "collapsed": false,
    "jupyter": {
     "outputs_hidden": false
    }
   },
   "source": [
    "# Task 3 - Clustering (34 points)\n",
    "\n",
    "**Task Description:** A student who has not attended this course yet but who is interested in data mining tried to cluster two datasets. Unfortunately, they did not succeed and asked you for some help. In this task, you will read what the student said about their experience and help them by describing the data and the clustering algorithms. You will also try out the clustering algorithms yourself to make sure that your recommendations are correct.\n",
    "\n",
    "**Quality Assessment:** To encourage you not to use AI tools and to write the solutions yourself, we will deduct additional points if your solutions are consequently weird (e.g. describe clusters as \"precise\" or \"irregular\") or do not answer the question. If you write the solutions yourself, paying attention to the task description, this should not affect you (even if you make some mistakes). However, if you copy answers form AI tools, which often use weird words or return irrelevant solutions, you will most likely get negative points, reducing the total points you get for this assignment.\n",
    "\n",
    "**Input:** The data folder contains the input files (`dataset1.csv`, `dataset2.csv`). In each dataset the data points have 2 features and 1 class label. Do not forget to exclude the data that should not be considered for clustering when you apply the algorithms on the datasets."
   ]
  },
  {
   "cell_type": "code",
   "metadata": {
    "collapsed": false,
    "jupyter": {
     "outputs_hidden": false
    }
   },
   "source": [
    "# TODO: uncomment the packages you used, please do not import additional non-native packages\n",
    "# you may change the imports to the following format: from [package] import [class, method, etc.]\n",
    "\n",
    "# import matplotlib.pyplot as plt\n",
    "# import numpy as np\n",
    "# import pandas as pd\n",
    "# import seaborn as sb\n",
    "# import sklearn"
   ],
   "outputs": [],
   "execution_count": null
  },
  {
   "metadata": {},
   "cell_type": "markdown",
   "source": [
    "## 3.1 Dataset 1 (15 points)\n",
    "\n",
    "Student: \"I've read that K-Means is usually the default algorithm to cluster datasets as it needs only the number of clusters to be specified. I could figure out how to run it but the results are really bad, it splits the clusters in a really weird way.\""
   ]
  },
  {
   "metadata": {},
   "cell_type": "markdown",
   "source": "#### a) Plot the dataset and colour the points belonging to the same class with the same colour. (1 point)"
  },
  {
   "metadata": {},
   "cell_type": "code",
   "source": "",
   "outputs": [],
   "execution_count": null
  },
  {
   "metadata": {},
   "cell_type": "markdown",
   "source": "#### b) Describe the dataset and the clusters in it in. A person who did not look at the data should be able to imagine how it looks. Write maximum 3 sentences. (2 points)"
  },
  {
   "metadata": {},
   "cell_type": "markdown",
   "source": "[write your answer here]"
  },
  {
   "metadata": {},
   "cell_type": "markdown",
   "source": "#### c) Explain why the algorithm the student chose is not suitable for the dataset. Compare what the algorithm assumes about the data with the properties of the dataset in maximum 3 sentences. (3 points)"
  },
  {
   "metadata": {},
   "cell_type": "markdown",
   "source": "[write your answer here]"
  },
  {
   "metadata": {},
   "cell_type": "markdown",
   "source": "#### d) Recommend a more suitable clustering algorithm (NMI score at least 0.95) and explain why it would cluster the dataset better. Compare what the algorithm assumes about the data with the properties of the dataset in maximum 3 sentences. (3 points)"
  },
  {
   "metadata": {},
   "cell_type": "markdown",
   "source": "[write your answer here]"
  },
  {
   "metadata": {},
   "cell_type": "markdown",
   "source": "#### e) Cluster the dataset with both algorithms (the algorithm the student chose and the algorithm you chose) and plot the clustering results. (4 points)"
  },
  {
   "metadata": {},
   "cell_type": "code",
   "source": "",
   "outputs": [],
   "execution_count": null
  },
  {
   "metadata": {},
   "cell_type": "markdown",
   "source": "#### f) Show that your recommendation is good by comparing the results of the two algorithms using the *Normalized Mutual Information (NMI)* and *(Adjusted) Rand Score* metrics. (2 points)"
  },
  {
   "metadata": {},
   "cell_type": "code",
   "source": "",
   "outputs": [],
   "execution_count": null
  },
  {
   "metadata": {},
   "cell_type": "markdown",
   "source": [
    "## 3.2 Dataset 2 (15 points)\n",
    "\n",
    "Student: \"I have no clue what's wrong with K-Means so I tried the AgglomerativeClustering model from sklearn on the other dataset. I used it with average linkage to cluster the data, I guess I should get an average or better result with it?? I set n_clusters to the correct number of clusters but it seems to have put everything into a single cluster...\""
   ]
  },
  {
   "metadata": {},
   "cell_type": "markdown",
   "source": "#### a) Plot the dataset and colour the points belonging to the same class with the same colour. (1 point)"
  },
  {
   "metadata": {},
   "cell_type": "code",
   "source": "",
   "outputs": [],
   "execution_count": null
  },
  {
   "metadata": {},
   "cell_type": "markdown",
   "source": "#### b) Describe the dataset and the clusters in it in. A person who did not look at the data should be able to imagine how it looks. Write maximum 3 sentences. (2 points)"
  },
  {
   "metadata": {},
   "cell_type": "markdown",
   "source": "[write your answer here]"
  },
  {
   "metadata": {},
   "cell_type": "markdown",
   "source": "#### c) Explain why the algorithm the student chose is not suitable for the dataset. Compare what the algorithm assumes about the data with the properties of the dataset in maximum 3 sentences. (3 points)"
  },
  {
   "metadata": {},
   "cell_type": "markdown",
   "source": "[write your answer here]"
  },
  {
   "metadata": {},
   "cell_type": "markdown",
   "source": "#### d) Recommend a more suitable clustering algorithm (NMI score at least 0.95) and explain why it would cluster the dataset better. Compare what the algorithm assumes about the data with the properties of the dataset in maximum 3 sentences. (3 points)"
  },
  {
   "metadata": {},
   "cell_type": "markdown",
   "source": "[write your answer here]"
  },
  {
   "metadata": {},
   "cell_type": "markdown",
   "source": "#### e) Cluster the dataset with both algorithms (the algorithm the student chose and the algorithm you chose) and plot the clustering results. (4 points)"
  },
  {
   "metadata": {},
   "cell_type": "code",
   "source": "",
   "outputs": [],
   "execution_count": null
  },
  {
   "metadata": {},
   "cell_type": "markdown",
   "source": "#### f) Show that your recommendation is good by comparing the results of the two algorithms using the *Normalized Mutual Information (NMI)* and *(Adjusted) Rand Score* metrics. (2 points)"
  },
  {
   "metadata": {},
   "cell_type": "code",
   "source": "",
   "outputs": [],
   "execution_count": null
  },
  {
   "metadata": {},
   "cell_type": "markdown",
   "source": [
    "## 3.3 Literature (4 points)\n",
    "\n",
    "Recommend the student 2 sources that could help them to learn more about clustering. The sources you recommend can be in any format (book, article, blog, video, interactive tutorial, etc.) but it should have a good quality. The topic should be clustering in general or the clustering algorithms you used. State the full urls of the websites (or cite the books properly) and write 3 examples what the student could learn from each.\n"
   ]
  },
  {
   "metadata": {},
   "cell_type": "markdown",
   "source": "[write your answer here]"
  }
 ],
 "metadata": {
  "kernelspec": {
   "display_name": "Python 3 (ipykernel)",
   "language": "python",
   "name": "python3"
  },
  "language_info": {
   "codemirror_mode": {
    "name": "ipython",
    "version": 3
   },
   "file_extension": ".py",
   "mimetype": "text/x-python",
   "name": "python",
   "nbconvert_exporter": "python",
   "pygments_lexer": "ipython3",
   "version": "3.10.12"
  }
 },
 "nbformat": 4,
 "nbformat_minor": 4
}
