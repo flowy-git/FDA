{
 "cells": [
  {
   "cell_type": "markdown",
   "id": "2966d28c-a377-4e6b-ae54-5a873e5925dd",
   "metadata": {},
   "source": [
    "# Task 2 - Dimensionality Reduction (27 points)\n",
    "\n",
    "**Task Description:** Principal Component Analysis (PCA) is a dimensionality reduction method that is often used to reduce the dimensionality of datasets, by transforming a large set of variables into a smaller one, while preserving as much  variance  as  possible.  There  are  two  methods  for  performing  a  Principal  Component  Analysis:  using Eigenvector  Decomposition  (EIG)  and  the  more  generalized  Singular  Value  Decomposition  (SVD). \n",
    "\n",
    "**Input:** In this exercise, you will use the Wheat Seeds[1] dataset, which involves the prediction of species given measurements of seeds from different types of wheat. The dataset can be found as `seeds.csv` in the data folder. Do not forget to exclude the data that should not be considered for dimensionality reduction when you apply the algorithms on the dataset.\n",
    "\n",
    "[1] https://archive.ics.uci.edu/ml/datasets/seeds"
   ]
  },
  {
   "metadata": {},
   "cell_type": "code",
   "source": [
    "# TODO: uncomment the packages you used, please do not import additional non-native packages\n",
    "# You may change the imports to the following format: from [package] import [class, method, etc.]\n",
    "\n",
    "# import matplotlib.pyplot as plt\n",
    "# import numpy as np\n",
    "# import seaborn as sns\n",
    "# import sklearn"
   ],
   "id": "2c92c8ea739770c8",
   "outputs": [],
   "execution_count": null
  },
  {
   "cell_type": "markdown",
   "id": "f0e7456e-e2a2-440c-921e-087d630d48f8",
   "metadata": {},
   "source": [
    "## 2.1 PCA Implementation (16 points)\n",
    "### 2.1.1 Implement PCA from scratch* via SVD based on the lecture slides. Project the provided dataset onto the first two principal components. (10 points).\n",
    "\\* You may use any native Python package, numpy, and scalers from sklearn."
   ]
  },
  {
   "metadata": {},
   "cell_type": "code",
   "source": "",
   "id": "76d9f8c141f651f7",
   "outputs": [],
   "execution_count": null
  },
  {
   "metadata": {},
   "cell_type": "markdown",
   "source": [
    "### 2.1.2 Compare your results with the PCA algorithm of sklearn. (6 points)\n",
    "- Run sklearn's PCA on the provided dataset. Project the data onto the first two principal components. (3 points)\n",
    "- Create scatter plots for the results (your implementation and sklearn's). Colour the points by their corresponding Type label. (3 points)"
   ],
   "id": "83fd9639-1a42-40d8-b04d-d711ae323bb1"
  },
  {
   "metadata": {},
   "cell_type": "code",
   "source": "",
   "id": "30de28b371d76a78",
   "outputs": [],
   "execution_count": null
  },
  {
   "cell_type": "markdown",
   "id": "20816085-0519-4540-876d-9e14ef3945c6",
   "metadata": {},
   "source": [
    "## 2.2 Briefly explain the “curse of dimensionality” problem and the importance of PCA in it. (5 points)\n",
    "Write the answer in your words but support it by citing at least 1 reference. (Do not use AI tools.)"
   ]
  },
  {
   "metadata": {},
   "cell_type": "markdown",
   "source": "[write your answer here]",
   "id": "626ac667204a9d26"
  },
  {
   "metadata": {},
   "cell_type": "markdown",
   "source": [
    "## 2.3 Non-Negative Matrix Factorization (6 points)\n",
    "\n",
    "Apply NMF on the dataset. Create a scatter plot of the solutions. You can use the NMF implementation from sklearn.decomposition. Before using NMF on the dataset, scale it with an appropriate scaler from sklearn.preprocessing."
   ],
   "id": "b7631e06b52dfdcc"
  },
  {
   "metadata": {},
   "cell_type": "code",
   "source": "",
   "id": "95b2cb26b729dc77",
   "outputs": [],
   "execution_count": null
  }
 ],
 "metadata": {
  "kernelspec": {
   "display_name": "Python 3 (ipykernel)",
   "language": "python",
   "name": "python3"
  },
  "language_info": {
   "codemirror_mode": {
    "name": "ipython",
    "version": 3
   },
   "file_extension": ".py",
   "mimetype": "text/x-python",
   "name": "python",
   "nbconvert_exporter": "python",
   "pygments_lexer": "ipython3",
   "version": "3.10.9"
  }
 },
 "nbformat": 4,
 "nbformat_minor": 5
}
