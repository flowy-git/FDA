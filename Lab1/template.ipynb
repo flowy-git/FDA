{
 "cells": [
  {
   "cell_type": "markdown",
   "id": "2664fee5-fed2-4ef6-ab3a-1fd896463e90",
   "metadata": {},
   "source": [
    "# Foundation of Data Analysis - WS24\n",
    "\n",
    "## Lab Assignment - Supervised Learning (Template)\n",
    "\n",
    "**Due date: 9:45am on 11.12.2024**\n",
    "\n",
    "This jupyter notebook serves as a template for the supervised lab assignment for you to work in. Please consult the exam sheet (supervised_lab_ws24.pdf) that you can find on Moodle for all the tasks as well as rules and regulations pertaining the assignment. Most importantly, you are only allowed to use the libraries/functions imported in the first code cell (for some tasks you are limited to fewer libraries - please see the instructions). The comments atop each cell are reminders of the tasks but do not replace the instructions in the pdf (the latter is binding).\n",
    "\n",
    "Do not hesitate to email me (XXX) at XX.XX@univie.ac.at or post on the discussion forum on Moodle with any questions you may have.\n",
    "\n",
    "Do not forget to set random seeds for reproducibility whenever necessary. Good luck!"
   ]
  },
  {
   "cell_type": "code",
   "execution_count": null,
   "id": "dad57aaf-2d0c-4d8b-bb4d-e91b09eecc89",
   "metadata": {},
   "outputs": [],
   "source": [
    "# imports\n",
    "import pandas as pd\n",
    "import numpy as np\n",
    "import seaborn as sns\n",
    "import matplotlib.pyplot as plt\n",
    "import sklearn\n",
    "from sklearn.model_selection import train_test_split\n",
    "from sklearn.linear_model import LogisticRegression\n",
    "from sklearn.ensemble import RandomForestClassifier\n",
    "from sklearn.metrics import accuracy_score, zero_one_loss, confusion_matrix\n",
    "from sklearn.inspection import DecisionBoundaryDisplay\n",
    "from sklearn.model_selection import learning_curve\n",
    "from sklearn.svm import SVC"
   ]
  },
  {
   "cell_type": "markdown",
   "id": "c7674d5e-fda6-4e2a-9d9c-94ab2f8f6c7c",
   "metadata": {},
   "source": [
    "## 1) Cross Validation for Random Forests"
   ]
  },
  {
   "cell_type": "code",
   "execution_count": null,
   "id": "24b602e8-317e-4fab-b0de-9a381ab45f3f",
   "metadata": {},
   "outputs": [],
   "source": [
    "# 1.0 Load the data\n",
    "train = pd.read_csv(\"train_data.csv\")\n",
    "test = pd.read_csv(\"test_data.csv\")"
   ]
  },
  {
   "cell_type": "code",
   "execution_count": null,
   "id": "794346f6-3d08-4a66-840f-5a737bf6e035",
   "metadata": {},
   "outputs": [],
   "source": [
    "# 1.1 Print first ten rows\n"
   ]
  },
  {
   "cell_type": "code",
   "execution_count": null,
   "id": "9c530cf4-ff3c-4833-bb13-7b8d38395f8c",
   "metadata": {},
   "outputs": [],
   "source": [
    "# 1.2 Target value evenly distributed?\n"
   ]
  },
  {
   "cell_type": "code",
   "execution_count": null,
   "id": "7ae475d5-6825-43cd-aec2-902336ffdaa3",
   "metadata": {},
   "outputs": [],
   "source": [
    "# 1.3 Pairplot\n"
   ]
  },
  {
   "cell_type": "code",
   "execution_count": null,
   "id": "cc170e9f-ff01-4723-8ee8-b23b845381f7",
   "metadata": {},
   "outputs": [],
   "source": [
    "# 1.4 Perform random forest\n"
   ]
  },
  {
   "cell_type": "code",
   "execution_count": null,
   "id": "3cfe748e-7917-4522-be7d-b1bfe30dcb4a",
   "metadata": {},
   "outputs": [],
   "source": [
    "# 1.5 Confusion matrix\n"
   ]
  },
  {
   "cell_type": "code",
   "execution_count": null,
   "id": "5c73dca5-76e9-40b4-9a39-81dc30acf19b",
   "metadata": {},
   "outputs": [],
   "source": [
    "# 1.6 0-1 loss from the confusion matrix\n"
   ]
  },
  {
   "cell_type": "code",
   "execution_count": null,
   "id": "5f7ff75a-1d4b-4324-88d1-fa0bd6fa4acc",
   "metadata": {},
   "outputs": [],
   "source": [
    "# 1.7 Scatter and decision regions\n"
   ]
  },
  {
   "cell_type": "code",
   "execution_count": null,
   "id": "27c048a6-ccea-44e1-aff0-0035642ea1b7",
   "metadata": {},
   "outputs": [],
   "source": [
    "# 1.8 Learning Curve\n"
   ]
  },
  {
   "cell_type": "code",
   "execution_count": null,
   "id": "2fdaef6f-a262-4bb3-8d92-df80c1e2f0f4",
   "metadata": {},
   "outputs": [],
   "source": [
    "# 1.9 Explain problem\n"
   ]
  },
  {
   "cell_type": "code",
   "execution_count": null,
   "id": "990c26af-6e30-45a0-b6ff-897d9c75482b",
   "metadata": {},
   "outputs": [],
   "source": [
    "# 1.10 Cross validation\n"
   ]
  },
  {
   "cell_type": "code",
   "execution_count": null,
   "id": "962c395c-812b-4e30-b11d-3c602da3a8b5",
   "metadata": {},
   "outputs": [],
   "source": [
    "# 1.11 Train best\n"
   ]
  },
  {
   "cell_type": "code",
   "execution_count": null,
   "id": "696069f5-eab4-4bee-92c7-2cfdc1ddd838",
   "metadata": {},
   "outputs": [],
   "source": [
    "# 1.12 Compare avg nodes and depth\n"
   ]
  },
  {
   "cell_type": "code",
   "execution_count": null,
   "id": "24ddc3c5-6a98-46df-97d4-b02be7dbd030",
   "metadata": {},
   "outputs": [],
   "source": [
    "# 1.13 Comparison of model performance\n"
   ]
  },
  {
   "cell_type": "code",
   "execution_count": null,
   "id": "213b542d-0cf1-492b-a16b-0747566cdad3",
   "metadata": {},
   "outputs": [],
   "source": [
    "# 1.14 Pruning\n"
   ]
  },
  {
   "cell_type": "markdown",
   "id": "34ebee56-664a-4ff8-8dc4-26487269de68",
   "metadata": {},
   "source": [
    "## 2) On Linear Separability"
   ]
  },
  {
   "cell_type": "code",
   "execution_count": null,
   "id": "4cb93fcd-6668-41dc-a28b-15ad7db7ae85",
   "metadata": {},
   "outputs": [],
   "source": [
    "# 2.0 Load data\n",
    "df1 = pd.read_csv(\"data_xor.csv\")\n",
    "df2 = pd.read_csv(\"data_sphere.csv\")"
   ]
  },
  {
   "cell_type": "code",
   "execution_count": null,
   "id": "682bf7ec-4bc0-491f-a135-f6eb16b61d2f",
   "metadata": {},
   "outputs": [],
   "source": [
    "# 2.1 Scatter plots\n"
   ]
  },
  {
   "cell_type": "code",
   "execution_count": null,
   "id": "dfc45e49-7e9d-44cd-975e-65eb20b7af58",
   "metadata": {},
   "outputs": [],
   "source": [
    "# 2.2 Logistic Regressions\n"
   ]
  },
  {
   "cell_type": "code",
   "execution_count": null,
   "id": "26075dbd-843b-45e7-b6da-0b46454f2d20",
   "metadata": {},
   "outputs": [],
   "source": [
    "# 2.3 Interpret\n"
   ]
  },
  {
   "cell_type": "code",
   "execution_count": null,
   "id": "a8c7ff03-9d51-4e49-ab36-e87216155242",
   "metadata": {},
   "outputs": [],
   "source": [
    "# 2.4 Classify data_xor\n"
   ]
  },
  {
   "cell_type": "code",
   "execution_count": null,
   "id": "36051ad0-52d8-4265-aa89-66f4101ae846",
   "metadata": {},
   "outputs": [],
   "source": [
    "# 2.5 Classify sphere\n"
   ]
  },
  {
   "cell_type": "code",
   "execution_count": null,
   "id": "fb720be9-7357-4bf3-8e33-fbe6c74852db",
   "metadata": {},
   "outputs": [],
   "source": [
    "# 2.6 Explanation of what was done\n"
   ]
  },
  {
   "cell_type": "code",
   "execution_count": null,
   "id": "510d4330-d3f9-40ac-938f-b6c387b84eef",
   "metadata": {},
   "outputs": [],
   "source": [
    "# 2.7 Kernel trick and kernel svm\n"
   ]
  },
  {
   "cell_type": "code",
   "execution_count": null,
   "id": "f57766a7-0d30-49eb-970f-026707233bd0",
   "metadata": {},
   "outputs": [],
   "source": [
    "# 2.8 KernelSVM\n"
   ]
  }
 ],
 "metadata": {
  "kernelspec": {
   "display_name": "Python 3 (ipykernel)",
   "language": "python",
   "name": "python3"
  },
  "language_info": {
   "codemirror_mode": {
    "name": "ipython",
    "version": 3
   },
   "file_extension": ".py",
   "mimetype": "text/x-python",
   "name": "python",
   "nbconvert_exporter": "python",
   "pygments_lexer": "ipython3",
   "version": "3.10.14"
  }
 },
 "nbformat": 4,
 "nbformat_minor": 5
}
